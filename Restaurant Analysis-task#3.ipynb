{
 "cells": [
  {
   "cell_type": "code",
   "execution_count": 2,
   "id": "da8781ff",
   "metadata": {},
   "outputs": [],
   "source": [
    "#Importing Libraries\n",
    "import numpy as np\n",
    "import pandas as pd\n",
    "import matplotlib.pyplot as plt\n",
    "import seaborn as sns"
   ]
  },
  {
   "cell_type": "code",
   "execution_count": 3,
   "id": "f1e195f4",
   "metadata": {},
   "outputs": [],
   "source": [
    "#Loading dataset\n",
    "df = pd.read_csv('G:\\DataAnalysis\\Dataset .csv')"
   ]
  },
  {
   "cell_type": "code",
   "execution_count": 4,
   "id": "1cbd700d",
   "metadata": {},
   "outputs": [
    {
     "name": "stdout",
     "output_type": "stream",
     "text": [
      "<class 'pandas.core.frame.DataFrame'>\n",
      "RangeIndex: 9551 entries, 0 to 9550\n",
      "Data columns (total 21 columns):\n",
      " #   Column                Non-Null Count  Dtype  \n",
      "---  ------                --------------  -----  \n",
      " 0   Restaurant ID         9551 non-null   int64  \n",
      " 1   Restaurant Name       9551 non-null   object \n",
      " 2   Country Code          9551 non-null   int64  \n",
      " 3   City                  9551 non-null   object \n",
      " 4   Address               9551 non-null   object \n",
      " 5   Locality              9551 non-null   object \n",
      " 6   Locality Verbose      9551 non-null   object \n",
      " 7   Longitude             9551 non-null   float64\n",
      " 8   Latitude              9551 non-null   float64\n",
      " 9   Cuisines              9542 non-null   object \n",
      " 10  Average Cost for two  9551 non-null   int64  \n",
      " 11  Currency              9551 non-null   object \n",
      " 12  Has Table booking     9551 non-null   object \n",
      " 13  Has Online delivery   9551 non-null   object \n",
      " 14  Is delivering now     9551 non-null   object \n",
      " 15  Switch to order menu  9551 non-null   object \n",
      " 16  Price range           9551 non-null   int64  \n",
      " 17  Aggregate rating      9551 non-null   float64\n",
      " 18  Rating color          9551 non-null   object \n",
      " 19  Rating text           9551 non-null   object \n",
      " 20  Votes                 9551 non-null   int64  \n",
      "dtypes: float64(3), int64(5), object(13)\n",
      "memory usage: 1.5+ MB\n"
     ]
    }
   ],
   "source": [
    "df.info()"
   ]
  },
  {
   "cell_type": "code",
   "execution_count": 5,
   "id": "91d7980c",
   "metadata": {},
   "outputs": [],
   "source": [
    "df_clean=df.dropna(inplace=True)"
   ]
  },
  {
   "cell_type": "code",
   "execution_count": 6,
   "id": "9bbdf335",
   "metadata": {},
   "outputs": [
    {
     "name": "stdout",
     "output_type": "stream",
     "text": [
      "<class 'pandas.core.frame.DataFrame'>\n",
      "Int64Index: 9542 entries, 0 to 9550\n",
      "Data columns (total 21 columns):\n",
      " #   Column                Non-Null Count  Dtype  \n",
      "---  ------                --------------  -----  \n",
      " 0   Restaurant ID         9542 non-null   int64  \n",
      " 1   Restaurant Name       9542 non-null   object \n",
      " 2   Country Code          9542 non-null   int64  \n",
      " 3   City                  9542 non-null   object \n",
      " 4   Address               9542 non-null   object \n",
      " 5   Locality              9542 non-null   object \n",
      " 6   Locality Verbose      9542 non-null   object \n",
      " 7   Longitude             9542 non-null   float64\n",
      " 8   Latitude              9542 non-null   float64\n",
      " 9   Cuisines              9542 non-null   object \n",
      " 10  Average Cost for two  9542 non-null   int64  \n",
      " 11  Currency              9542 non-null   object \n",
      " 12  Has Table booking     9542 non-null   object \n",
      " 13  Has Online delivery   9542 non-null   object \n",
      " 14  Is delivering now     9542 non-null   object \n",
      " 15  Switch to order menu  9542 non-null   object \n",
      " 16  Price range           9542 non-null   int64  \n",
      " 17  Aggregate rating      9542 non-null   float64\n",
      " 18  Rating color          9542 non-null   object \n",
      " 19  Rating text           9542 non-null   object \n",
      " 20  Votes                 9542 non-null   int64  \n",
      "dtypes: float64(3), int64(5), object(13)\n",
      "memory usage: 1.6+ MB\n"
     ]
    }
   ],
   "source": [
    "df.info()"
   ]
  },
  {
   "cell_type": "markdown",
   "id": "b3217dda",
   "metadata": {},
   "source": [
    "# Level 1"
   ]
  },
  {
   "cell_type": "markdown",
   "id": "f2764200",
   "metadata": {},
   "source": [
    "Task 3: Price Range Distribution Analysis:"
   ]
  },
  {
   "cell_type": "code",
   "execution_count": 11,
   "id": "55f1aa4a",
   "metadata": {},
   "outputs": [
    {
     "name": "stdout",
     "output_type": "stream",
     "text": [
      "The price range are\n",
      " 1    4438\n",
      "2    3113\n",
      "3    1405\n",
      "4     586\n",
      "Name: Price range, dtype: int64\n"
     ]
    }
   ],
   "source": [
    "price_range_counts = df[\"Price range\"].value_counts().sort_index()\n",
    "print(\"The price range are\\n\", price_range_counts)"
   ]
  },
  {
   "cell_type": "code",
   "execution_count": 8,
   "id": "810bb084",
   "metadata": {},
   "outputs": [
    {
     "data": {
      "image/png": "[encoded data removed]",
      "text/plain": [
       "<Figure size 576x360 with 1 Axes>"
      ]
     },
     "metadata": {
      "needs_background": "light"
     },
     "output_type": "display_data"
    }
   ],
   "source": [
    "# Plotting the bar chart with different colors\n",
    "plt.figure(figsize=(8,5))\n",
    "bars = plt.bar(price_range_counts.index, price_range_counts.values, color=[\"Orange\",\"Green\", \"pink\",\"Yellow\"], edgecolor=\"black\")\n",
    "\n",
    "# To labels on top of each bar\n",
    "for bar, count in zip(bars, price_range_counts.values):\n",
    "    plt.text(bar.get_x() + bar.get_width()/2, bar.get_height() + 2, str(count), \n",
    "             ha='center', va='bottom', fontsize=12, fontweight='bold', color='black')\n",
    "\n",
    "# Labels and title\n",
    "plt.xlabel(\"Price Range\")\n",
    "plt.ylabel(\"Number of Restaurants\")\n",
    "plt.title(\"Distribution of Price Ranges and Restaurants\")\n",
    "plt.grid(axis=\"y\", linestyle=\"--\", alpha=0.7)\n",
    "plt.show()"
   ]
  },
  {
   "cell_type": "code",
   "execution_count": 1,
   "id": "2da988ce",
   "metadata": {},
   "outputs": [],
   "source": [
    "# This is the required bar chart to shcw the visualization of the distribution of price ranges among the restaurants"
   ]
  },
  {
   "cell_type": "code",
   "execution_count": 15,
   "id": "0b8fc781",
   "metadata": {},
   "outputs": [],
   "source": [
    "# To calculate the percentage of the restaurants in each price range category"
   ]
  },
  {
   "cell_type": "code",
   "execution_count": 16,
   "id": "bb5849d8",
   "metadata": {},
   "outputs": [
    {
     "name": "stdout",
     "output_type": "stream",
     "text": [
      "Price Range Distribution:\n",
      "Price Range 1: 46.51% of restaurants\n",
      "Price Range 2: 32.62% of restaurants\n",
      "Price Range 3: 14.72% of restaurants\n",
      "Price Range 4: 6.14% of restaurants\n"
     ]
    }
   ],
   "source": [
    "price_range_counts = df[\"Price range\"].value_counts(normalize=True) * 100\n",
    "print(\"Price Range Distribution:\")\n",
    "for price, percentage in price_range_counts.sort_index().items():\n",
    "    print(f\"Price Range {price}: {percentage:.2f}% of restaurants\")"
   ]
  },
  {
   "cell_type": "code",
   "execution_count": null,
   "id": "5b460a55",
   "metadata": {},
   "outputs": [],
   "source": []
  },
  {
   "cell_type": "code",
   "execution_count": null,
   "id": "7cf1128b",
   "metadata": {},
   "outputs": [],
   "source": []
  }
 ],
 "metadata": {
  "kernelspec": {
   "display_name": "Python 3 (ipykernel)",
   "language": "python",
   "name": "python3"
  },
  "language_info": {
   "codemirror_mode": {
    "name": "ipython",
    "version": 3
   },
   "file_extension": ".py",
   "mimetype": "text/x-python",
   "name": "python",
   "nbconvert_exporter": "python",
   "pygments_lexer": "ipython3",
   "version": "3.8.13"
  }
 },
 "nbformat": 4,
 "nbformat_minor": 5
}
